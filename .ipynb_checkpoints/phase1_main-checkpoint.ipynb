{
 "cells": [
  {
   "cell_type": "markdown",
   "metadata": {},
   "source": [
    "<h1>Part 1 : Data Pre-processing</h1>\n",
    "<div>In this section we build a function that accepts raw text extracted from a doc or a query and after applying normalization, tokenization, stopword removal and stemming returns an array of tokens (token stream).</div>"
   ]
  },
  {
   "cell_type": "code",
   "execution_count": 30,
   "metadata": {},
   "outputs": [
    {
     "ename": "KeyboardInterrupt",
     "evalue": "Interrupted by user",
     "output_type": "error",
     "traceback": [
      "\u001b[0;31m---------------------------------------------------------------------------\u001b[0m",
      "\u001b[0;31mKeyboardInterrupt\u001b[0m                         Traceback (most recent call last)",
      "\u001b[0;32m<ipython-input-30-b4dca0a62ef9>\u001b[0m in \u001b[0;36m<module>\u001b[0;34m()\u001b[0m\n\u001b[1;32m     32\u001b[0m         \u001b[0;32mreturn\u001b[0m \u001b[0mprepared_text\u001b[0m\u001b[0;34m\u001b[0m\u001b[0m\n\u001b[1;32m     33\u001b[0m \u001b[0;34m\u001b[0m\u001b[0m\n\u001b[0;32m---> 34\u001b[0;31m \u001b[0mraw_text\u001b[0m \u001b[0;34m=\u001b[0m \u001b[0minput\u001b[0m\u001b[0;34m(\u001b[0m\u001b[0;34m)\u001b[0m\u001b[0;34m\u001b[0m\u001b[0m\n\u001b[0m\u001b[1;32m     35\u001b[0m \u001b[0mprint\u001b[0m\u001b[0;34m(\u001b[0m\u001b[0mprepare_text\u001b[0m\u001b[0;34m(\u001b[0m\u001b[0mraw_text\u001b[0m\u001b[0;34m,\u001b[0m \u001b[0;34m'en'\u001b[0m\u001b[0;34m)\u001b[0m\u001b[0;34m)\u001b[0m\u001b[0;34m\u001b[0m\u001b[0m\n",
      "\u001b[0;32m/anaconda3/lib/python3.6/site-packages/ipykernel/kernelbase.py\u001b[0m in \u001b[0;36mraw_input\u001b[0;34m(self, prompt)\u001b[0m\n\u001b[1;32m    861\u001b[0m             \u001b[0mself\u001b[0m\u001b[0;34m.\u001b[0m\u001b[0m_parent_ident\u001b[0m\u001b[0;34m,\u001b[0m\u001b[0;34m\u001b[0m\u001b[0m\n\u001b[1;32m    862\u001b[0m             \u001b[0mself\u001b[0m\u001b[0;34m.\u001b[0m\u001b[0m_parent_header\u001b[0m\u001b[0;34m,\u001b[0m\u001b[0;34m\u001b[0m\u001b[0m\n\u001b[0;32m--> 863\u001b[0;31m             \u001b[0mpassword\u001b[0m\u001b[0;34m=\u001b[0m\u001b[0;32mFalse\u001b[0m\u001b[0;34m,\u001b[0m\u001b[0;34m\u001b[0m\u001b[0m\n\u001b[0m\u001b[1;32m    864\u001b[0m         )\n\u001b[1;32m    865\u001b[0m \u001b[0;34m\u001b[0m\u001b[0m\n",
      "\u001b[0;32m/anaconda3/lib/python3.6/site-packages/ipykernel/kernelbase.py\u001b[0m in \u001b[0;36m_input_request\u001b[0;34m(self, prompt, ident, parent, password)\u001b[0m\n\u001b[1;32m    902\u001b[0m             \u001b[0;32mexcept\u001b[0m \u001b[0mKeyboardInterrupt\u001b[0m\u001b[0;34m:\u001b[0m\u001b[0;34m\u001b[0m\u001b[0m\n\u001b[1;32m    903\u001b[0m                 \u001b[0;31m# re-raise KeyboardInterrupt, to truncate traceback\u001b[0m\u001b[0;34m\u001b[0m\u001b[0;34m\u001b[0m\u001b[0m\n\u001b[0;32m--> 904\u001b[0;31m                 \u001b[0;32mraise\u001b[0m \u001b[0mKeyboardInterrupt\u001b[0m\u001b[0;34m(\u001b[0m\u001b[0;34m\"Interrupted by user\"\u001b[0m\u001b[0;34m)\u001b[0m \u001b[0;32mfrom\u001b[0m \u001b[0;32mNone\u001b[0m\u001b[0;34m\u001b[0m\u001b[0m\n\u001b[0m\u001b[1;32m    905\u001b[0m             \u001b[0;32mexcept\u001b[0m \u001b[0mException\u001b[0m \u001b[0;32mas\u001b[0m \u001b[0me\u001b[0m\u001b[0;34m:\u001b[0m\u001b[0;34m\u001b[0m\u001b[0m\n\u001b[1;32m    906\u001b[0m                 \u001b[0mself\u001b[0m\u001b[0;34m.\u001b[0m\u001b[0mlog\u001b[0m\u001b[0;34m.\u001b[0m\u001b[0mwarning\u001b[0m\u001b[0;34m(\u001b[0m\u001b[0;34m\"Invalid Message:\"\u001b[0m\u001b[0;34m,\u001b[0m \u001b[0mexc_info\u001b[0m\u001b[0;34m=\u001b[0m\u001b[0;32mTrue\u001b[0m\u001b[0;34m)\u001b[0m\u001b[0;34m\u001b[0m\u001b[0m\n",
      "\u001b[0;31mKeyboardInterrupt\u001b[0m: Interrupted by user"
     ]
    }
   ],
   "source": [
    "from __future__ import unicode_literals\n",
    "from hazm import *\n",
    "from PersianStemmer import PersianStemmer\n",
    "from langdetect import detect\n",
    "import nltk\n",
    "# nltk.download('punkt')\n",
    "from nltk import sent_tokenize, word_tokenize\n",
    "from nltk.stem import PorterStemmer\n",
    "\n",
    "def prepare_text(raw_text, lang = 'fa'):\n",
    "    if(lang == 'en'):\n",
    "        tokens = word_tokenize(raw_text)\n",
    "        tokens = [word for word in tokens if word.isalpha()]\n",
    "        tokens = [word.lower() for word in tokens]\n",
    "        porter = PorterStemmer()\n",
    "        prepared_text = []\n",
    "        for word in tokens:\n",
    "            if(tokens.count(word) < 1/15 or len(tokens) < 120):\n",
    "                prepared_text.append(porter.stem(word))\n",
    "        return prepared_text\n",
    "    \n",
    "    elif(lang == 'fa'):\n",
    "        normalizer = Normalizer()\n",
    "        normalized_text = normalizer.normalize(raw_text)\n",
    "        tokenizer = WordTokenizer()\n",
    "        tokenized_text = tokenizer.tokenize(normalized_text)\n",
    "        ps = PersianStemmer()\n",
    "        prepared_text = []\n",
    "        for word in tokenized_text:\n",
    "            if(word[0] >= \"آ\" and word[0] <= \"ی\" and (tokenized_text.count(word) < 1/15 or len(tokenized_text) < 120)):\n",
    "                prepared_text.append(ps.run(word))\n",
    "        return prepared_text\n",
    "\n",
    "raw_text = input()\n",
    "print(prepare_text(raw_text, 'en'))"
   ]
  },
  {
   "cell_type": "markdown",
   "metadata": {},
   "source": [
    "<h1>Part 2 : Indexing</h1>\n",
    "<div>In this section we build a function for positional indexing and biword indexing. We then save this indexes and also we have functions for adding and deleting docs in a dynamic way meaning that you don't need to repeat the indexing process from the beginning.</div>"
   ]
  },
  {
   "cell_type": "code",
   "execution_count": 31,
   "metadata": {
    "collapsed": true
   },
   "outputs": [],
   "source": [
    "positional_index = {}\n",
    "def add_positional(term, docid, position, t):\n",
    "    if(term not in positional_index.keys()):\n",
    "        positional_index[term] = {}\n",
    "        positional_index[term][docid] = {}\n",
    "        positional_index[term][docid][t] = [position]\n",
    "    else:\n",
    "        if(docid not in positional_index[term].keys()):\n",
    "            positional_index[term][docid] = {}\n",
    "            positional_index[term][docid][t] = [position]\n",
    "        else:\n",
    "            if(t not in positional_index[term][docid]):\n",
    "                positional_index[term][docid][t] = [position]\n",
    "            else:\n",
    "                positional_index[term][docid][t].append(position)"
   ]
  },
  {
   "cell_type": "code",
   "execution_count": 32,
   "metadata": {
    "collapsed": true
   },
   "outputs": [],
   "source": [
    "docids = []\n",
    "def construct_positional_indexes(docs_path):\n",
    "    # TODO \n",
    "    from xml.dom import minidom\n",
    "    mydoc = minidom.parse(docs_path)\n",
    "    texts = mydoc.getElementsByTagName('text')\n",
    "    titles = mydoc.getElementsByTagName('title')\n",
    "    ids = mydoc.getElementsByTagName('id')\n",
    "    import xml.etree.ElementTree as ET\n",
    "    tree = ET.parse(docs_path)\n",
    "    root = tree.getroot()\n",
    "    for child in root:\n",
    "        for c in child:\n",
    "            if(c.tag == '{http://www.mediawiki.org/xml/export-0.10/}id'):\n",
    "                docids.append(c.text)\n",
    "    for i in range(len(texts)):\n",
    "        A = prepare_text(titles[i].firstChild.data)\n",
    "        B = prepare_text(texts[i].firstChild.data)\n",
    "        for j in range(len(A)):\n",
    "            add_positional(A[j], docids[i], j, 'title')\n",
    "            \n",
    "        for j in range(len(B)):\n",
    "            add_positional(B[j], docids[i], j, 'text')\n",
    "\n",
    "\n",
    "construct_positional_indexes('persian.xml')"
   ]
  },
  {
   "cell_type": "code",
   "execution_count": 36,
   "metadata": {},
   "outputs": [
    {
     "name": "stdout",
     "output_type": "stream",
     "text": [
      "['3014', '3016', '3017', '3021', '3022', '3023', '3026', '3027', '3029', '3030', '3033', '3036', '3037', '3039', '3041', '3043', '3046', '3047', '3049', '3055', '3056', '3058', '3059', '3060', '3061', '3065', '3068', '3069', '3070', '3071', '3072', '3073', '3074', '3076', '3091', '3095', '3098', '3099', '3100', '3101', '3103', '3111', '3117', '3118', '3119', '3120', '3121', '3128', '3129', '3130', '3141', '3157', '3179', '3197', '3199', '3205', '3217', '3219', '3220', '3227', '3229', '3233', '3243', '3248', '3251', '3252', '3260', '3261', '3263', '3273', '3274', '3276', '3277', '3280', '3282', '3283', '3284', '3285', '3286', '3287', '3288', '3289', '3290', '3291', '3292', '3293', '3294', '3295', '3296', '3297', '3298', '3300', '3301', '3302', '3303', '3304', '3305', '3307', '3308', '3309', '3310', '3311', '3312', '3313', '3314', '3315', '3316', '3317', '3318', '3319', '3320', '3324', '3325', '3329', '3331', '3332', '3333', '3334', '3335', '3339', '3341', '3342', '3343', '3345', '3347', '3348', '3359', '3360', '3361', '3362', '3367', '3373', '3376', '3377', '3380', '3381', '3385', '3394', '3397', '3400', '3402', '3404', '3406', '3409', '3410', '3411', '3413', '3414', '3415', '3416', '3429', '3433', '3443', '3456', '3458', '3463', '3507', '3521', '3539', '3576', '3580', '3582', '3653', '3654', '3656', '3658', '3664', '3665', '3666', '3667', '3670', '3671', '3672', '3680', '3681', '3690', '3695', '3699', '3702', '3711', '3716', '3719', '3721', '3727', '3730', '3733', '3738', '3739', '3740', '3741', '3742', '3743', '3744', '3747', '3750', '3751', '3752', '3758', '3760', '3761', '3776', '3777', '3778', '3780', '3782', '3784', '3785', '3787', '3790', '3797', '3798', '3800', '3801', '3802', '3803', '3804', '3809', '3814', '3820', '3821', '3826', '3829', '3835', '3836', '3838', '3841', '3842', '3843', '3844', '3845', '3847', '3849', '3851', '3852', '3853', '3854', '3855', '3860', '3862', '3865', '3866', '3868', '3871', '3872', '3874', '3879', '3880', '3881', '3884', '3885', '3886', '3889', '3894', '3897', '3901', '3903', '3904', '3905', '3906', '3907', '3908', '3910', '3911', '3912', '3915', '3916', '3918', '3919', '3920', '3921', '3923', '3925', '3926', '3929', '3930', '3931', '3932', '3933', '3934', '3936', '3938', '3939', '3941', '3944', '3945', '3946', '3951', '3954', '3955', '3956', '3961', '3965', '3967', '3968', '3971', '3975', '3978', '3979', '3980', '3983', '3986', '3987', '3989', '3990', '3992', '3993', '3995', '3996', '3997', '4002', '4007', '4008', '4009', '4017', '4018', '4021', '4023', '4024', '4025', '4026', '4027', '4028', '4030', '4032', '4034', '4036', '4037', '4039', '4040', '4041', '4042', '4048', '4049', '4050', '4051', '4054', '4055', '4056', '4057', '4058', '4059', '4062', '4065', '4066', '4069', '4070', '4072', '4074', '4080', '4081', '4082', '4086', '4088', '4094', '4100', '4102', '4103', '4104', '4105', '4106', '4107', '4109', '4110', '4111', '4112', '4113', '4114', '4115', '4118', '4120', '4131', '4133', '4135', '4139', '4140', '4141', '4142', '4143', '4144', '4145', '4146', '4147', '4148', '4149', '4151', '4152', '4153', '4154', '4155', '4156', '4157', '4158', '4159', '4160', '4161', '4162', '4163', '4164', '4165', '4166', '4167', '4168', '4169', '4172', '4183', '4190', '4191', '4204', '4205', '4206', '4207', '4208', '4209', '4210', '4211', '4212', '4213', '4214', '4215', '4216', '4217', '4218', '4219', '4220', '4221', '4222', '4223', '4224', '4225', '4226', '4227', '4228', '4229', '4230', '4231', '4240', '4247', '4248', '4254', '4255', '4256', '4257', '4259', '4263', '4269', '4274', '4275', '4281', '4282', '4283', '4284', '4285', '4286', '4287', '4288', '4289', '4290', '4291', '4292', '4293', '4294', '4295', '4296', '4297', '4299', '4300', '4301', '4306', '4313', '4321', '4323', '4329', '4332', '4335', '4337', '4339', '4363', '4368', '4375', '4376', '4377', '4379', '4382', '4383', '4385', '4388', '4391', '4394', '4395', '4396', '4397', '4398', '4399', '4400', '4401', '4402', '4404', '4406', '4408', '4409', '4410', '4415', '4416', '4417', '4422', '4423', '4425', '4427', '4438', '4439', '4443', '4444', '4446', '4447', '4451', '4455', '4459', '4460', '4462', '4463', '4466', '4468', '4470', '4471', '4473', '4475', '4476', '4484', '4485', '4486', '4487', '4488', '4489', '4492', '4493', '4497', '4503', '4505', '4506', '4508', '4509', '4512', '4513', '4514', '4515', '4516', '4517', '4518', '4519', '4524', '4525', '4526', '4527', '4528', '4530', '4531', '4532', '4533', '4534', '4536', '4537', '4539', '4540', '4541', '4542', '4543', '4544', '4545', '4546', '4547', '4548', '4549', '4550', '4551', '4554', '4555', '4556', '4557', '4560', '4561', '4563', '4564', '4568', '4570', '4571', '4573', '4576', '4577', '4582', '4586', '4589', '4593', '4595', '4597', '4598', '4601', '4603', '4605', '4609', '4611', '4612', '4621', '4624', '4625', '4627', '4628', '4629', '4636', '4637', '4638', '4646', '4650', '4655', '4656', '4658', '4659', '4662', '4665', '4666', '4668', '4669', '4670', '4671', '4676', '4677', '4678', '4679', '4680', '4681', '4683', '4684', '4686', '4687', '4690', '4691', '4707', '4710', '4718', '4719', '4720', '4725', '4726', '4730', '4731', '4732', '4734', '4736', '4737', '4742', '4743', '4745', '4746', '4748', '4752', '4755', '4757', '4758', '4760', '4761', '4762', '4763', '4765', '4766', '4777', '4778', '4779', '4780', '4781', '4784', '4799', '4805', '4811', '4815', '4816', '4818', '4819', '4820', '4824', '4831', '4833', '4838', '4839', '4840', '4843', '4846', '4847', '4849', '4856', '4858', '4864', '4865', '4867', '4872', '4874', '4876', '4878', '4893', '4896', '4897', '4898', '4899', '4901', '4903', '4905', '4906', '4907', '4908', '4909', '4910', '4911', '4912', '4914', '4916', '4918', '4919', '4929', '4938', '4940', '4941', '4942', '4953', '4955', '4986', '4990', '4992', '4993', '4996', '4997', '4998', '5010', '5011', '5012', '5028', '5031', '5039', '5048', '5049', '5050', '5052', '5053', '5067', '5071', '5122', '5126', '5134', '5141', '5147', '5152', '5153', '5173', '5174', '5185', '5187', '5189', '5192', '5195', '5201', '5203', '5206', '5236', '5237', '5238', '5240', '5241', '5252', '5255', '5256', '5257', '5260', '5261', '5262', '5263', '5264', '5266', '5268', '5269', '5275', '5277', '5281', '5282', '5284', '5285', '5287', '5288', '5293', '5294', '5296', '5299', '5301', '5303', '5304', '5306', '5307', '5308', '5309', '5310', '5311', '5312', '5318', '5319', '5320', '5342', '5346', '5352', '5353', '5354', '5355', '5357', '5359', '5360', '5362', '5364', '5366', '5369', '5370', '5371', '5372', '5375', '5378', '5380', '5381', '5382', '5383', '5386', '5390', '5393', '5396', '5398', '5399', '5400', '5402', '5403', '5408', '5409', '5410', '5411', '5414', '5415', '5416', '5422', '5428', '5429', '5430', '5440', '5444', '5445', '5446', '5448', '5449', '5450', '5451', '5453', '5454', '5455', '5456', '5458', '5459', '5460', '5462', '5465', '5466', '5474', '5478', '5481', '5484', '5486', '5490', '5492', '5494', '5495', '5496', '5497', '5498', '5499', '5501', '5503', '5504', '5506', '5508', '5509', '5510', '5512', '5517', '5519', '5522', '5523', '5524', '5525', '5526', '5527', '5529', '5533', '5534', '5542', '5549', '5551', '5553', '5554', '5560', '5568', '5569', '5571', '5572', '5573', '5576', '5579', '5580', '5581', '5582', '5583', '5584', '5585', '5586', '5587', '5588', '5589', '5590', '5591', '5592', '5593', '5594', '5595', '5596', '5597', '5598', '5600', '5601', '5602', '5603', '5604', '5605', '5607', '5608', '5610', '5611', '5612', '5613', '5615', '5616', '5619', '5620', '5636', '5644', '5660', '5665', '5668', '5669', '5678', '5679', '5680', '5681', '5683', '5686', '5690', '5693', '5694', '5696', '5698', '5700', '5701', '5702', '5703', '5704', '5705', '5707', '5708', '5709', '5710', '5714', '5720', '5721', '5723', '5724', '5725', '5727', '5728', '5729', '5731', '5735', '5739', '5740', '5746', '5748', '5749', '5759', '5763', '5765', '5766', '5767', '5772', '5773', '5776', '5777', '5779', '5781', '5784', '5786', '5787', '5793', '5805', '5814', '5815', '5816', '5817', '5818', '5820', '5823', '5824', '5826', '5830', '5838', '5841', '5843', '5844', '5845', '5846', '5852', '5858', '5859', '5861', '5862', '5864', '5865', '5866', '5867', '5868', '5869', '5870', '5872', '5878', '5879', '5883', '5884', '5885', '5886', '5887', '5889', '5902', '5903', '5904', '5905', '5907', '5909', '5910', '5913', '5916', '5917', '5928', '5931', '5932', '5933', '5937', '5940', '5943', '5945', '5948', '5957', '5966', '5967', '5977', '5979', '5980', '5982', '5984', '5985', '5987', '5994', '6011', '6013', '6014', '6015', '6016', '6020', '6021', '6023', '6024', '6025', '6030', '6033', '6034', '6035', '6036', '6038', '6039', '6040', '6042', '6043', '6044', '6045', '6046', '6049', '6052', '6054', '6055', '6058', '6061', '6064', '6070', '6074', '6075', '6077', '6078', '6088', '6089', '6096', '6100', '6108', '6109', '6115', '6119', '6125', '6127', '6132', '6133', '6138', '6140', '6142', '6152', '6154', '6155', '6157', '6159', '6160', '6161', '6162', '6163', '6164', '6166', '6169', '6172', '6173', '6174', '6177', '6178', '6183', '6185', '6186', '6187', '6188', '6190', '6193', '6196', '6200', '6202', '6203', '6207', '6208', '6209', '6214', '6215', '6217', '6218', '6220', '6223', '6225', '6226', '6229', '6230', '6233', '6235', '6247', '6249', '6250', '6251', '6254', '6256', '6257', '6258', '6260', '6264', '6266', '6272', '6273', '6275', '6277', '6283', '6289', '6294', '6295', '6296', '6297', '6301', '6302', '6303', '6304', '6307', '6309', '6312', '6315', '6324', '6333', '6339', '6352', '6354', '6357', '6359', '6360', '6361', '6362', '6363', '6369', '6372', '6375', '6380', '6382', '6394', '6396', '6402', '6403', '6404', '6405', '6415', '6416', '6417', '6418', '6419', '6420', '6423', '6424', '6426', '6427', '6428', '6429', '6434', '6437', '6446', '6447', '6452', '6456', '6457', '6459', '6461', '6466', '6471', '6472', '6475', '6476', '6477', '6480', '6482', '6487', '6489', '6491', '6492', '6494', '6495', '6497', '6502', '6506', '6507', '6517', '6521', '6522', '6527', '6531', '6535', '6546', '6548', '6553', '6558', '6568', '6572', '6575', '6580', '6583', '6586', '6587', '6589', '6591', '6595', '6600', '6602', '6604', '6606', '6607', '6609', '6612', '6613', '6615', '6616', '6617', '6618', '6621', '6623', '6626', '6627', '6628', '6629', '6633', '6634', '6635', '6636', '6637', '6638', '6640', '6641', '6642', '6645', '6646', '6647', '6649', '6650', '6651', '6652', '6653', '6654', '6658', '6662', '6665', '6667', '6669', '6672', '6674', '6677', '6678', '6682', '6684', '6685', '6692', '6694', '6696', '6699', '6700', '6701', '6702', '6703', '6707', '6708', '6709', '6710', '6711', '6716', '6717', '6718', '6719', '6720', '6721', '6722', '6723', '6724', '6728', '6731', '6732', '6734', '6735', '6737', '6738', '6739', '6740', '6741', '6742', '6744', '6748', '6749', '6752', '6753', '6759', '6760', '6761', '6762', '6763', '6764', '6765', '6766', '6768', '6769', '6770', '6771', '6772', '6774', '6775', '6776', '6777', '6778', '6784', '6788', '6789', '6791', '6794', '6798', '6800', '6802', '6803', '6804', '6805', '6806', '6807', '6809', '6810', '6812', '6813', '6814', '6815', '6817', '6819', '6821', '6822', '6823', '6824', '6825', '6826', '6827', '6828', '6830', '6831', '6835', '6836', '6837', '6838', '6840', '6841', '6844', '6845', '6846', '6847', '6848', '6849', '6850', '6851', '6854', '6859', '6860', '6861', '6862', '6863', '6864', '6865', '6867', '6868', '6870', '6871', '6872', '6873', '6874', '6875', '6876', '6878', '6879', '6881', '6883', '6884', '6885', '6886', '6887', '6889', '6890', '6894', '6896', '6899', '6900', '6907', '6909', '6913', '6915', '6917', '6919', '6921', '6922', '6924', '6930', '6931', '6932', '6937', '6938', '6939', '6940', '6943', '6944', '6945', '6949', '6955', '6957', '6959', '6962', '6963', '6964', '6965', '6966', '6967', '6969', '6970', '6973', '6974', '6976', '6978', '6979', '6982', '6983', '6984', '6985', '6986', '6987', '6988', '6991', '6995', '6997', '6998', '7002', '7006', '7008', '7013', '7016', '7024', '7025', '7026', '7029', '7032', '7033', '7039', '7040', '7041', '7048', '7049', '7050', '7051', '7052', '7055', '7056', '7057', '7058', '7059', '7060', '7063', '7065', '7067', '7068', '7069', '7070', '7072', '7077', '7081', '7084', '7085', '7094', '7095', '7098', '7099', '7100', '7101', '7102', '7103', '7104', '7110', '7113', '7114', '7122', '7123', '7125', '7127', '7128', '7129', '7130', '7131', '7132', '7133', '7134', '7135', '7136', '7137', '7138', '7139', '7141', '7142', '7143', '7144', '7145', '7146', '7147', '7151', '7153', '7155', '7156']\n"
     ]
    }
   ],
   "source": [
    "# print(len(positional_index.keys()))\n",
    "print(docids)"
   ]
  },
  {
   "cell_type": "code",
   "execution_count": null,
   "metadata": {
    "collapsed": true
   },
   "outputs": [],
   "source": [
    "bigram_index = {}\n",
    "def add_bigram(word):\n",
    "    new_word = \"$\" + word + \"$\"\n",
    "    for i in range(len(new_word) - 1):\n",
    "        bi = new_word[i] + new_word[i + 1]\n",
    "        if(bi not in bigram_index.keys()):\n",
    "            bigram_index[bi] = [word]\n",
    "        else:\n",
    "            if(word not in bigram_index[bi]):\n",
    "                bigram_index[bi].append(word)"
   ]
  },
  {
   "cell_type": "code",
   "execution_count": null,
   "metadata": {
    "collapsed": true
   },
   "outputs": [],
   "source": [
    "def construct_bigram_indexes(docs_path):\n",
    "    # TODO \n",
    "    from xml.dom import minidom\n",
    "    mydoc = minidom.parse(docs_path)\n",
    "    texts = mydoc.getElementsByTagName('text')\n",
    "    titles = mydoc.getElementsByTagName('title')\n",
    "    for i in range(len(texts)):\n",
    "        A = prepare_text(titles[i].firstChild.data)\n",
    "        B = prepare_text(texts[i].firstChild.data)\n",
    "        for j in range(len(A)):\n",
    "            add_bigram(A[j])\n",
    "            \n",
    "        for j in range(len(B)):\n",
    "            add_bigram(B[j])\n",
    "\n",
    "construct_bigram_indexes('persian.xml')"
   ]
  },
  {
   "cell_type": "code",
   "execution_count": null,
   "metadata": {
    "collapsed": true
   },
   "outputs": [],
   "source": [
    "def add_document_to_indexes(docs_path, doc_num):\n",
    "    # TODO \n",
    "    from xml.dom import minidom\n",
    "    mydoc = minidom.parse(docs_path)\n",
    "    texts = mydoc.getElementsByTagName('text')\n",
    "    titles = mydoc.getElementsByTagName('title')\n",
    "    if(doc_num not in docids):\n",
    "        docs = []\n",
    "        import xml.etree.ElementTree as ET\n",
    "        tree = ET.parse(docs_path)\n",
    "        root = tree.getroot()\n",
    "        for child in root:\n",
    "            for c in child:\n",
    "                if(c.tag == '{http://www.mediawiki.org/xml/export-0.10/}id'):\n",
    "                    docs.append(c.text)\n",
    "        i = docs.index(doc_num)\n",
    "        A = prepare_text(titles[i].firstChild.data)\n",
    "        B = prepare_text(texts[i].firstChild.data)\n",
    "        for j in range(len(A)):\n",
    "            add_positional(A[j], doc_num, j, 'title')\n",
    "        \n",
    "        for j in range(len(B)):\n",
    "            add_positional(B[j], doc_num, j, 'text')\n",
    "        \n",
    "        docids.append(doc_num)\n",
    "\n",
    "add_document_to_indexes('persian.xml', '3022')"
   ]
  },
  {
   "cell_type": "code",
   "execution_count": null,
   "metadata": {
    "collapsed": true
   },
   "outputs": [],
   "source": [
    "def delete_document_from_indexes(docs_path, doc_num):\n",
    "    from xml.dom import minidom\n",
    "    mydoc = minidom.parse(docs_path)\n",
    "    texts = mydoc.getElementsByTagName('text')\n",
    "    titles = mydoc.getElementsByTagName('title')\n",
    "    if(doc_num in docids):\n",
    "        docs = []\n",
    "        import xml.etree.ElementTree as ET\n",
    "        tree = ET.parse(docs_path)\n",
    "        root = tree.getroot()\n",
    "        for child in root:\n",
    "            for c in child:\n",
    "                if(c.tag == '{http://www.mediawiki.org/xml/export-0.10/}id'):\n",
    "                    docs.append(c.text)\n",
    "        i = docs.index(doc_num)\n",
    "        A = prepare_text(titles[i].firstChild.data)\n",
    "        B = prepare_text(texts[i].firstChild.data)\n",
    "        for j in range(len(A)):\n",
    "            if(A[j] in positional_index.keys()):\n",
    "                if(doc_num in positional_index[A[j]]):\n",
    "                    del positional_index[A[j]][doc_num]\n",
    "                if(len(positional_index[A[j]].keys()) == 0):\n",
    "                    del positional_index[A[j]]\n",
    "        \n",
    "        for j in range(len(B)):\n",
    "            if(B[j] in positional_index.keys()):\n",
    "                if(doc_num in positional_index[B[j]]):\n",
    "                    del positional_index[B[j]][doc_num]\n",
    "                if(len(positional_index[B[j]].keys()) == 0):\n",
    "                    del positional_index[B[j]]\n",
    "        \n",
    "        docids.remove(doc_num)\n",
    "\n",
    "\n",
    "        \n",
    "\n",
    "delete_document_from_indexes('persian.xml', '3022')"
   ]
  },
  {
   "cell_type": "code",
   "execution_count": 37,
   "metadata": {
    "collapsed": true
   },
   "outputs": [],
   "source": [
    "import json\n",
    "\n",
    "def save_index(destination):\n",
    "    j = json.dumps(positional_index)\n",
    "    f = open(destination,\"w\")\n",
    "    f.write(j)\n",
    "    f.close()\n",
    "    pass\n",
    "\n",
    "save_index('positional.json')"
   ]
  },
  {
   "cell_type": "code",
   "execution_count": null,
   "metadata": {
    "collapsed": true
   },
   "outputs": [],
   "source": [
    "import json\n",
    "\n",
    "def load_index(source):\n",
    "    with open(source) as json_file:\n",
    "        positional_index = json.load(json_file)\n",
    "\n",
    "load_index('positional.json')"
   ]
  }
 ],
 "metadata": {
  "kernelspec": {
   "display_name": "Python 3",
   "language": "python",
   "name": "python3"
  },
  "language_info": {
   "codemirror_mode": {
    "name": "ipython",
    "version": 3
   },
   "file_extension": ".py",
   "mimetype": "text/x-python",
   "name": "python",
   "nbconvert_exporter": "python",
   "pygments_lexer": "ipython3",
   "version": "3.6.3"
  }
 },
 "nbformat": 4,
 "nbformat_minor": 2
}
